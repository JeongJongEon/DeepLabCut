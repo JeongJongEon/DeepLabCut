{
  "nbformat": 4,
  "nbformat_minor": 0,
  "metadata": {
    "colab": {
      "name": "DLC my own.ipynb",
      "provenance": [],
      "toc_visible": true,
      "authorship_tag": "ABX9TyMC5V1FcY+ELAXw2qB91Xjx",
      "include_colab_link": true
    },
    "kernelspec": {
      "name": "python3",
      "display_name": "Python 3"
    }
  },
  "cells": [
    {
      "cell_type": "markdown",
      "metadata": {
        "id": "view-in-github",
        "colab_type": "text"
      },
      "source": [
        "<a href=\"https://colab.research.google.com/github/JeongJongEon/DeepLabCut/blob/master/DLC_my_own.ipynb\" target=\"_parent\"><img src=\"https://colab.research.google.com/assets/colab-badge.svg\" alt=\"Open In Colab\"/></a>"
      ]
    },
    {
      "cell_type": "markdown",
      "metadata": {
        "id": "nQwLUlJxnCm-"
      },
      "source": [
        "# 아래 사이트에 있는 구글 코랩의 편집 버전\r\n",
        "https://colab.research.google.com/github/AlexEMG/DeepLabCut/blob/master/examples/COLAB_YOURDATA_TrainNetwork_VideoAnalysis.ipynb\r\n",
        "\r\n",
        "https://github.com/DeepLabCut/DeepLabCut/blob/master/examples/Demo_yourowndata.ipynb\r\n",
        "의 코드 복사해옴.\r\n",
        "\r\n",
        "# 편집한 코드, 원본과의 차이점, 설정해야 할 것들 등 서술"
      ]
    },
    {
      "cell_type": "markdown",
      "metadata": {
        "id": "txoddlM8hLKm"
      },
      "source": [
        "## First, go to \"Runtime\" ->\"change runtime type\"->select \"Python3\", and then select \"GPU\"\n"
      ]
    },
    {
      "cell_type": "code",
      "metadata": {
        "id": "q23BzhA6CXxu"
      },
      "source": [
        "#(this will take a few minutes to install all the dependences!)\n",
        "!pip install deeplabcut"
      ],
      "execution_count": null,
      "outputs": []
    },
    {
      "cell_type": "markdown",
      "metadata": {
        "id": "25wSj6TlVclR"
      },
      "source": [
        "**(Be sure to click \"RESTART RUNTIME\" is it is displayed above above before moving on !)**"
      ]
    },
    {
      "cell_type": "code",
      "metadata": {
        "id": "Y36K4Eux3h-X",
        "colab": {
          "base_uri": "https://localhost:8080/"
        },
        "outputId": "edf7c732-8c61-489f-a35a-583b3a8399a9"
      },
      "source": [
        "# Use TensorFlow 1.x:\n",
        "%tensorflow_version 1.x"
      ],
      "execution_count": null,
      "outputs": [
        {
          "output_type": "stream",
          "text": [
            "TensorFlow 1.x selected.\n"
          ],
          "name": "stdout"
        }
      ]
    },
    {
      "cell_type": "markdown",
      "metadata": {
        "id": "cQ-nlTkri4HZ"
      },
      "source": [
        "## Link your Google Drive (with your labeled data, or the demo data):\n",
        "\n",
        "### 원본 코랩에서는, 라벨된 데이터와 데모 데이터 그리고 config 파일이 들어 있는 프로젝트 폴더가 드라이브에 업로드되어 있다고 가정함. 하지만, 나는 프로젝트 폴더와 파일들을 명령어를 통해 생성할 것임.\n",
        "\n",
        "### 원본 코랩의 순서 : 드라이브 마운트 -> 프로젝트 폴더 이름 정의, 비디오 path 지정 -> import os와 os.environ -> import deeplabcut -> 딥랩컷 버젼 확인 -> config 파일 path 지정\n",
        "### 내 코랩의 순서 : 드라이브 마운트 -> import os와 os.environ -> import deeplabcut -> 딥랩컷 버젼 확인 -> create_new_project -> 프로젝트 폴더 이름 정의, 비디오 path 지정 -> config 파일 path 지정"
      ]
    },
    {
      "cell_type": "code",
      "metadata": {
        "id": "KS4Q4UkR9rgG",
        "colab": {
          "base_uri": "https://localhost:8080/"
        },
        "outputId": "6d4c9241-d1a9-4fd7-d8c1-745fe1b9f110"
      },
      "source": [
        "#Now, let's link to your GoogleDrive. Run this cell and follow the authorization instructions:\n",
        "#(We recommend putting a copy of the github repo in your google drive if you are using the demo \"examples\")\n",
        "\n",
        "from google.colab import drive\n",
        "drive.mount('/content/drive')"
      ],
      "execution_count": null,
      "outputs": [
        {
          "output_type": "stream",
          "text": [
            "Mounted at /content/drive\n"
          ],
          "name": "stdout"
        }
      ]
    },
    {
      "cell_type": "code",
      "metadata": {
        "id": "sXufoX6INe6w"
      },
      "source": [
        "#GUIs don't work on the cloud, so label your data locally on your computer! This will suppress the GUI support\n",
        "import os\n",
        "os.environ[\"DLClight\"]=\"True\""
      ],
      "execution_count": null,
      "outputs": []
    },
    {
      "cell_type": "code",
      "metadata": {
        "id": "3K9Ndy1beyfG"
      },
      "source": [
        "import deeplabcut"
      ],
      "execution_count": null,
      "outputs": []
    },
    {
      "cell_type": "code",
      "metadata": {
        "id": "o4orkg9QTHKK"
      },
      "source": [
        "deeplabcut.__version__"
      ],
      "execution_count": null,
      "outputs": []
    },
    {
      "cell_type": "markdown",
      "metadata": {
        "id": "fQ7AIxTCp5C0"
      },
      "source": [
        "# create_new_project\r\n",
        "###1. task는 openfield\r\n",
        "###2. experimenter는 Pranav (demo의 labled-data의 csv파일에서, experimenter가 Pranav로 되어 있기 때문)\r\n",
        "###3. video는 '/content/m4s1.mp4' 로 설정하고, content에 업로드하자. (비디오 이름은 m4s1으로 해야 함. create_training_dataset 명령어로 labeled-data에 subdirectory가 생성되는데, 영상 이름과 같게 만들어짐. demo의 labled-data의 csv파일에서, 파일 위치가 m4s1 폴더로 되어 있기 때문에, 영상 이름도 m4s1으로 해야 함.)\r\n",
        "###4. %cd로 작업 디렉토리 설정해주어야 함. %cd /content/drive/MyDrive/프로젝트 폴더 만들 디렉토리\r\n",
        "\r\n",
        "\r\n",
        "\r\n"
      ]
    },
    {
      "cell_type": "code",
      "metadata": {
        "id": "i7MSVP9eHqPx",
        "colab": {
          "base_uri": "https://localhost:8080/"
        },
        "outputId": "233ec385-040b-4ca2-a8b2-d0be2947876a"
      },
      "source": [
        "#비디오는 업로드 후, 업로드한 위치로 경로 정의해주자. & 작업 디렉토리 설정 필수\r\n",
        "\r\n",
        "task='openfield' # Enter the name of your experiment Task\r\n",
        "experimenter='Pranav' # Enter the name of the experimenter\r\n",
        "video=['/content/m4s1.mp4']\r\n",
        " # Enter the paths of your videos OR FOLDER you want to grab frames from.\r\n",
        "%cd /content/drive/MyDrive/demo\r\n",
        "path_config_file=deeplabcut.create_new_project(task,experimenter,video,copy_videos=True) \r\n",
        "\r\n",
        "# NOTE: The function returns the path, where your project is. \r\n",
        "# You could also enter this manually (e.g. if the project is already created and you want to pick up, where you stopped...)\r\n",
        "#path_config_file = '/home/Mackenzie/Reaching/config.yaml' # Enter the path of the config file that was just created from the above step (check the folder)"
      ],
      "execution_count": null,
      "outputs": [
        {
          "output_type": "stream",
          "text": [
            "/content/drive/MyDrive/demo\n",
            "Created \"/content/drive/MyDrive/demo/openfield-Pranav-2020-12-14/videos\"\n",
            "Created \"/content/drive/MyDrive/demo/openfield-Pranav-2020-12-14/labeled-data\"\n",
            "Created \"/content/drive/MyDrive/demo/openfield-Pranav-2020-12-14/training-datasets\"\n",
            "Created \"/content/drive/MyDrive/demo/openfield-Pranav-2020-12-14/dlc-models\"\n",
            "Copying the videos\n",
            "/content/drive/MyDrive/demo/openfield-Pranav-2020-12-14/videos/m4s1.mp4\n",
            "Generated \"/content/drive/MyDrive/demo/openfield-Pranav-2020-12-14/config.yaml\"\n",
            "\n",
            "A new project with name openfield-Pranav-2020-12-14 is created at /content/drive/MyDrive/demo and a configurable file (config.yaml) is stored there. Change the parameters in this file to adapt to your project's needs.\n",
            " Once you have changed the configuration file, use the function 'extract_frames' to select frames for labeling.\n",
            ". [OPTIONAL] Use the function 'add_new_videos' to add new videos to your project (at any stage).\n"
          ],
          "name": "stdout"
        }
      ]
    },
    {
      "cell_type": "markdown",
      "metadata": {
        "id": "S-PjCiHasX9b"
      },
      "source": [
        "#프로젝트 폴더 이름 지정\r\n",
        "### 정확하게 지정하자\r\n",
        "openfield-Pranav-2020-12-14와 같은 폴더가 드라이브에 생성될 것임. 폴더 이름 지정할 때 'demo/openfield-Pranav-2020-12-14'처럼 정확하게 지정하자."
      ]
    },
    {
      "cell_type": "code",
      "metadata": {
        "id": "vhENAlQnFENJ"
      },
      "source": [
        "#Setup your project variables:\n",
        "# PLEASE EDIT THESE:\n",
        "  \n",
        "ProjectFolderName = '프로젝트 폴더 이름'\n",
        "VideoType = 'mp4' \n",
        "\n",
        "#don't edit these:\n",
        "videofile_path = ['/content/drive/My Drive/'+ProjectFolderName+'/videos/'] #Enter the list of videos or folder to analyze.\n",
        "videofile_path"
      ],
      "execution_count": null,
      "outputs": []
    },
    {
      "cell_type": "code",
      "metadata": {
        "id": "Z7ZlDr3wV4D1"
      },
      "source": [
        "#This creates a path variable that links to your google drive copy\n",
        "#No need to edit this, as you set it up before: \n",
        "path_config_file = '/content/drive/My Drive/'+ProjectFolderName+'/config.yaml'\n",
        "path_config_file"
      ],
      "execution_count": null,
      "outputs": []
    },
    {
      "cell_type": "markdown",
      "metadata": {
        "id": "xNi9s1dboEJN"
      },
      "source": [
        "## Create a training dataset:\n",
        "### You must do this step inside of Colab:\n",
        "After running this script the training dataset is created and saved in the project directory under the subdirectory **'training-datasets'**\n",
        "\n",
        "This function also creates new subdirectories under **dlc-models** and appends the project config.yaml file with the correct path to the training and testing pose configuration file. These files hold the parameters for training the network. Such an example file is provided with the toolbox and named as **pose_cfg.yaml**.\n",
        "\n",
        "Now it is the time to start training the network!\n",
        "\n",
        "## create_training_dataset 이전에 할 일\n",
        "### 1. config file의 편집 : bodyparts\n",
        "bodypart1 -> snout, bodypart2 -> leftear, bodypart3 -> rightear, objectA -> tailbase 로 바꾸어주자. config file의 bodyparts 항목과, skeleton 항목에 두 번 등장.\n",
        "### 2. 라벨 데이터 업로드\n",
        "DeepLabCut-master\\DeepLabCut-master\\examples\\openfield-Pranav-2018-10-30\\labeled-data\\m4s1 에 있는 파일들 모두 프로젝트 폴더의 labeled-data의 m4s1에 업로드하자. 프레임 100여 개와, h5, csv까지. \n",
        "간혹, 업로드가 완료되더라도 FileNotFoundError가 발생할 수 있으나, 이것은 드라이브의 변경사항을 Colab에서 아직 인식하지 못한 경우 발생하는 오류로 보임. 코랩 파일 새로고침 몇 번 하거나, 기다렸다가 다시 가동시키면 오류가 생기지 않고 정상적으로 가동됨."
      ]
    },
    {
      "cell_type": "code",
      "metadata": {
        "scrolled": true,
        "id": "eMeUwgxPoEJP"
      },
      "source": [
        "# Note: if you are using the demo data (i.e. examples/Reaching-Mackenzie-2018-08-30/), first delete the folder called dlc-models! \n",
        "#Then, run this cell. There are many more functions you can set here, including which netowkr to use!\n",
        "#check the docstring for full options you can do!\n",
        "deeplabcut.create_training_dataset(path_config_file, net_type='resnet_50', augmenter_type='imgaug')"
      ],
      "execution_count": null,
      "outputs": []
    },
    {
      "cell_type": "markdown",
      "metadata": {
        "id": "c4FczXGDoEJU"
      },
      "source": [
        "## Start training:\n",
        "This function trains the network for a specific shuffle of the training dataset. \n",
        "\n",
        "### maxiters 설정해주자"
      ]
    },
    {
      "cell_type": "code",
      "metadata": {
        "id": "_pOvDq_2oEJW"
      },
      "source": [
        "#let's also change the display and save_iters just in case Colab takes away the GPU... \n",
        "#if that happens, you can reload from a saved point. Typically, you want to train to 200,000 + iterations.\n",
        "#more info and there are more things you can set: https://github.com/AlexEMG/DeepLabCut/blob/master/docs/functionDetails.md#g-train-the-network\n",
        "\n",
        "deeplabcut.train_network(path_config_file, shuffle=1, displayiters=10,saveiters=500,maxiters=30000)\n",
        "\n",
        "#this will run until you stop it (CTRL+C), or hit \"STOP\" icon, or when it hits the end (default, 1.03M iterations). \n",
        "#Whichever you chose, you will see what looks like an error message, but it's not an error - don't worry...."
      ],
      "execution_count": null,
      "outputs": []
    },
    {
      "cell_type": "markdown",
      "metadata": {
        "id": "xZygsb2DoEJc"
      },
      "source": [
        "## Start evaluating:\n",
        "This funtion evaluates a trained model for a specific shuffle/shuffles at a particular state or all the states on the data set (images)\n",
        "and stores the results as .csv file in a subdirectory under **evaluation-results**"
      ]
    },
    {
      "cell_type": "code",
      "metadata": {
        "id": "nv4zlbrnoEJg"
      },
      "source": [
        "%matplotlib notebook\n",
        "deeplabcut.evaluate_network(path_config_file,plotting=True)\n",
        "\n",
        "# Here you want to see a low pixel error! Of course, it can only be as good as the labeler, \n",
        "#so be sure your labels are good! (And you have trained enough ;)"
      ],
      "execution_count": null,
      "outputs": []
    },
    {
      "cell_type": "markdown",
      "metadata": {
        "id": "BaLBl3TQtrfB"
      },
      "source": [
        "## There is an optional refinement step you can do outside of Colab:\n",
        "- if your pixel errors are not low enough, please check out the protocol guide on how to refine your network!\n",
        "- You will need to adjust the labels **outside of Colab!** We recommend coming back to train and analyze videos... \n",
        "- pplease see the repo and protocol instructions on how to refine your data!"
      ]
    },
    {
      "cell_type": "markdown",
      "metadata": {
        "id": "OVFLSKKfoEJk"
      },
      "source": [
        "## Start Analyzing videos: \n",
        "This function analyzes the new video. The user can choose the best model from the evaluation results and specify the correct snapshot index for the variable **snapshotindex** in the **config.yaml** file. Otherwise, by default the most recent snapshot is used to analyse the video.\n",
        "\n",
        "The results are stored in hd5 file in the same directory where the video resides. \n",
        "### save_as_csv=True를 추가하였음."
      ]
    },
    {
      "cell_type": "code",
      "metadata": {
        "id": "Y_LZiS_0oEJl"
      },
      "source": [
        "deeplabcut.analyze_videos(path_config_file,videofile_path,save_as_csv=True, videotype=VideoType)"
      ],
      "execution_count": null,
      "outputs": []
    },
    {
      "cell_type": "markdown",
      "metadata": {
        "id": "8GTiuJESoEKH"
      },
      "source": [
        "## Plot the trajectories of the analyzed videos:\n",
        "This function plots the trajectories of all the body parts across the entire video. Each body part is identified by a unique color."
      ]
    },
    {
      "cell_type": "code",
      "metadata": {
        "id": "gX21zZbXoEKJ"
      },
      "source": [
        "deeplabcut.plot_trajectories(path_config_file,videofile_path, videotype=VideoType)"
      ],
      "execution_count": null,
      "outputs": []
    },
    {
      "cell_type": "markdown",
      "metadata": {
        "id": "pqaCw15v8EmB"
      },
      "source": [
        "Now you can look at the plot-poses file and check the \"plot-likelihood.png\" might want to change the \"p-cutoff\" in the config.yaml file so that you have only high confidnece points plotted in the video. i.e. ~0.8 or 0.9. The current default is 0.4. "
      ]
    },
    {
      "cell_type": "markdown",
      "metadata": {
        "id": "pCrUvQIvoEKD"
      },
      "source": [
        "## Create labeled video:\n",
        "This funtion is for visualiztion purpose and can be used to create a video in .mp4 format with labels predicted by the network. This video is saved in the same directory where the original video resides. "
      ]
    },
    {
      "cell_type": "code",
      "metadata": {
        "id": "6aDF7Q7KoEKE"
      },
      "source": [
        "deeplabcut.create_labeled_video(path_config_file,videofile_path, videotype=VideoType)"
      ],
      "execution_count": null,
      "outputs": []
    },
    {
      "cell_type": "markdown",
      "metadata": {
        "id": "jy-LUXyAUQpa"
      },
      "source": [
        "# 데이터를 내 드라이브에서 공유 문서함으로 옮기고 폴더명을 변경하자.\r\n",
        "### 폴더명 : demovideo-# (#는 iter 수)"
      ]
    }
  ]
}